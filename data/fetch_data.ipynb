{
 "cells": [
  {
   "cell_type": "code",
   "execution_count": 1,
   "metadata": {},
   "outputs": [
    {
     "data": {
      "text/plain": [
       "2"
      ]
     },
     "execution_count": 1,
     "metadata": {},
     "output_type": "execute_result"
    }
   ],
   "source": [
    "1+1"
   ]
  },
  {
   "cell_type": "code",
   "execution_count": 2,
   "metadata": {},
   "outputs": [],
   "source": [
    "import numpy as np\n",
    "import pandas as pd\n",
    "import requests\n",
    "import os\n",
    "import sys"
   ]
  },
  {
   "cell_type": "code",
   "execution_count": 4,
   "metadata": {},
   "outputs": [],
   "source": [
    "base_url = \"https://pokeapi.co/api/v2/pokemon/\""
   ]
  },
  {
   "cell_type": "code",
   "execution_count": 5,
   "metadata": {},
   "outputs": [],
   "source": [
    "response = requests.get(f\"{base_url}{94}\")"
   ]
  },
  {
   "cell_type": "code",
   "execution_count": 7,
   "metadata": {},
   "outputs": [],
   "source": [
    "json_response = response.json()"
   ]
  },
  {
   "cell_type": "code",
   "execution_count": 10,
   "metadata": {},
   "outputs": [],
   "source": [
    "abilities = json_response['abilities']"
   ]
  },
  {
   "cell_type": "code",
   "execution_count": 11,
   "metadata": {},
   "outputs": [
    {
     "data": {
      "text/plain": [
       "[{'ability': {'name': 'cursed-body',\n",
       "   'url': 'https://pokeapi.co/api/v2/ability/130/'},\n",
       "  'is_hidden': False,\n",
       "  'slot': 1}]"
      ]
     },
     "execution_count": 11,
     "metadata": {},
     "output_type": "execute_result"
    }
   ],
   "source": [
    "abilities"
   ]
  },
  {
   "cell_type": "code",
   "execution_count": 34,
   "metadata": {},
   "outputs": [],
   "source": [
    "\n",
    "ability_url = 'https://pokeapi.co/api/v2/ability/'"
   ]
  },
  {
   "cell_type": "code",
   "execution_count": 35,
   "metadata": {},
   "outputs": [],
   "source": [
    "ability_response = requests.get(ability_url)\n",
    "abilitiy = ability_response.json()"
   ]
  },
  {
   "cell_type": "code",
   "execution_count": 31,
   "metadata": {},
   "outputs": [
    {
     "data": {
      "text/plain": [
       "{'effect': 'This Pokémon moves last within its priority bracket.\\n\\nMultiple Pokémon with this ability move in order of Speed amongst themselves.\\n\\nThe full incense and lagging tail take precedence over this ability; that is, Pokémon with these items move after Pokémon with this ability.  Pokémon with both this ability and one of these items are delayed as much as if they had only the item.\\n\\nThis ability works as usual during trick room: Pokémon with this ability will move in reverse order of Speed after Pokémon without it.',\n",
       " 'language': {'name': 'en', 'url': 'https://pokeapi.co/api/v2/language/9/'},\n",
       " 'short_effect': \"Makes the Pokémon move last within its move's priority bracket.\"}"
      ]
     },
     "execution_count": 31,
     "metadata": {},
     "output_type": "execute_result"
    }
   ],
   "source": [
    "abilitiy['effect_entries'][1]"
   ]
  },
  {
   "cell_type": "code",
   "execution_count": 36,
   "metadata": {},
   "outputs": [
    {
     "data": {
      "text/plain": [
       "{'count': 367,\n",
       " 'next': 'https://pokeapi.co/api/v2/ability/?offset=20&limit=20',\n",
       " 'previous': None,\n",
       " 'results': [{'name': 'stench', 'url': 'https://pokeapi.co/api/v2/ability/1/'},\n",
       "  {'name': 'drizzle', 'url': 'https://pokeapi.co/api/v2/ability/2/'},\n",
       "  {'name': 'speed-boost', 'url': 'https://pokeapi.co/api/v2/ability/3/'},\n",
       "  {'name': 'battle-armor', 'url': 'https://pokeapi.co/api/v2/ability/4/'},\n",
       "  {'name': 'sturdy', 'url': 'https://pokeapi.co/api/v2/ability/5/'},\n",
       "  {'name': 'damp', 'url': 'https://pokeapi.co/api/v2/ability/6/'},\n",
       "  {'name': 'limber', 'url': 'https://pokeapi.co/api/v2/ability/7/'},\n",
       "  {'name': 'sand-veil', 'url': 'https://pokeapi.co/api/v2/ability/8/'},\n",
       "  {'name': 'static', 'url': 'https://pokeapi.co/api/v2/ability/9/'},\n",
       "  {'name': 'volt-absorb', 'url': 'https://pokeapi.co/api/v2/ability/10/'},\n",
       "  {'name': 'water-absorb', 'url': 'https://pokeapi.co/api/v2/ability/11/'},\n",
       "  {'name': 'oblivious', 'url': 'https://pokeapi.co/api/v2/ability/12/'},\n",
       "  {'name': 'cloud-nine', 'url': 'https://pokeapi.co/api/v2/ability/13/'},\n",
       "  {'name': 'compound-eyes', 'url': 'https://pokeapi.co/api/v2/ability/14/'},\n",
       "  {'name': 'insomnia', 'url': 'https://pokeapi.co/api/v2/ability/15/'},\n",
       "  {'name': 'color-change', 'url': 'https://pokeapi.co/api/v2/ability/16/'},\n",
       "  {'name': 'immunity', 'url': 'https://pokeapi.co/api/v2/ability/17/'},\n",
       "  {'name': 'flash-fire', 'url': 'https://pokeapi.co/api/v2/ability/18/'},\n",
       "  {'name': 'shield-dust', 'url': 'https://pokeapi.co/api/v2/ability/19/'},\n",
       "  {'name': 'own-tempo', 'url': 'https://pokeapi.co/api/v2/ability/20/'}]}"
      ]
     },
     "execution_count": 36,
     "metadata": {},
     "output_type": "execute_result"
    }
   ],
   "source": [
    "abilitiy"
   ]
  },
  {
   "cell_type": "code",
   "execution_count": null,
   "metadata": {},
   "outputs": [],
   "source": []
  }
 ],
 "metadata": {
  "kernelspec": {
   "display_name": "pkmnai1",
   "language": "python",
   "name": "python3"
  },
  "language_info": {
   "codemirror_mode": {
    "name": "ipython",
    "version": 3
   },
   "file_extension": ".py",
   "mimetype": "text/x-python",
   "name": "python",
   "nbconvert_exporter": "python",
   "pygments_lexer": "ipython3",
   "version": "3.12.7"
  }
 },
 "nbformat": 4,
 "nbformat_minor": 2
}
