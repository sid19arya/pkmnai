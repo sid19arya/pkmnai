{
 "cells": [
  {
   "cell_type": "code",
   "execution_count": 2,
   "metadata": {},
   "outputs": [
    {
     "name": "stderr",
     "output_type": "stream",
     "text": [
      "c:\\Users\\aryas\\miniconda3\\envs\\pkmnai2\\Lib\\site-packages\\tqdm\\auto.py:21: TqdmWarning: IProgress not found. Please update jupyter and ipywidgets. See https://ipywidgets.readthedocs.io/en/stable/user_install.html\n",
      "  from .autonotebook import tqdm as notebook_tqdm\n"
     ]
    }
   ],
   "source": [
    "import torch\n",
    "from transformers import AutoModel, AutoTokenizer"
   ]
  },
  {
   "cell_type": "code",
   "execution_count": 1,
   "metadata": {},
   "outputs": [
    {
     "data": {
      "text/plain": [
       "2"
      ]
     },
     "execution_count": 1,
     "metadata": {},
     "output_type": "execute_result"
    }
   ],
   "source": [
    "1+1"
   ]
  },
  {
   "cell_type": "code",
   "execution_count": 3,
   "metadata": {},
   "outputs": [],
   "source": [
    "import numpy as np\n",
    "import pandas as pd"
   ]
  },
  {
   "cell_type": "code",
   "execution_count": 4,
   "metadata": {},
   "outputs": [],
   "source": [
    "from tqdm import tqdm"
   ]
  },
  {
   "cell_type": "code",
   "execution_count": 5,
   "metadata": {},
   "outputs": [
    {
     "name": "stdout",
     "output_type": "stream",
     "text": [
      "tensor([[-2.7399e-01,  3.3162e-01, -1.1495e-01, -2.1674e-01, -2.8511e-01,\n",
      "         -2.9982e-01,  3.2247e-01,  3.1581e-01,  1.8743e-01,  8.8626e-02,\n",
      "         -2.0105e-02,  7.4102e-02,  2.3955e-01,  3.9934e-01, -1.0891e-01,\n",
      "         -9.2823e-02, -2.1650e-01,  5.1228e-01,  2.1481e-01,  1.7406e-01,\n",
      "         -2.3057e-01, -2.6195e-01, -1.6170e-01, -1.9570e-01, -8.0080e-02,\n",
      "         -2.5900e-01, -1.7916e-01, -1.6859e-02,  3.9020e-01, -2.8445e-02,\n",
      "         -1.4440e-03,  2.8322e-01, -1.7490e-01, -5.6523e-02, -1.8404e-01,\n",
      "          1.5820e-01,  1.1796e-01,  3.5101e-01, -3.5980e-01,  9.8555e-02,\n",
      "         -3.9047e-01, -1.3655e-01, -1.0173e-01,  1.5543e-01, -5.9851e-02,\n",
      "         -5.8501e-01, -2.5932e+00, -1.7669e-01, -2.6588e-01, -5.0043e-01,\n",
      "          7.1172e-02, -2.4193e-02, -5.2199e-03, -1.3609e-01,  1.0551e-01,\n",
      "          1.7543e-01, -4.8413e-01,  2.7839e-01, -2.8150e-01,  6.8104e-02,\n",
      "         -5.6892e-02, -1.9888e-01,  5.0943e-03, -3.7501e-02,  2.6670e-02,\n",
      "          1.1218e-01,  1.6821e-01,  6.8942e-01, -2.0766e-01,  9.5304e-01,\n",
      "         -3.3529e-01, -7.3757e-02,  3.3919e-01,  1.7496e-01, -1.9703e-02,\n",
      "         -3.8921e-01,  5.2814e-03,  1.9211e-01, -4.0709e-01,  1.5894e-01,\n",
      "         -2.0384e-01, -4.6070e-02,  3.3225e-01,  7.7898e-02,  1.0245e-01,\n",
      "          4.0272e-01, -1.0334e-01, -3.4017e-01,  3.1256e-01,  2.2969e-01,\n",
      "          7.5250e-02,  9.6669e-02,  1.1622e-01,  3.7831e-01,  5.4792e-01,\n",
      "          6.6442e-02, -1.4515e-02,  3.3584e-01,  1.1597e-02,  1.2963e-01,\n",
      "          3.6928e-02, -9.5147e-02,  9.2770e-02, -2.8351e-01,  3.0544e-01,\n",
      "         -6.3852e-02, -1.7721e-01, -2.4771e-01, -2.8120e-02, -2.6064e+00,\n",
      "          3.7197e-01, -1.9552e-01, -3.1513e-01,  5.5016e-02, -3.8966e-01,\n",
      "          7.0572e-01,  4.8706e-01, -6.0261e-02, -5.0996e-02,  3.5220e-01,\n",
      "         -2.8244e-01,  1.7191e-01, -2.2650e-01, -2.0282e-01,  1.2523e-01,\n",
      "          4.6310e-01, -8.4569e-02, -1.8237e-01,  1.9220e-01, -1.2081e-01,\n",
      "          2.0557e-01, -3.7997e-03,  5.7146e-02, -2.5439e-01, -2.3093e-01,\n",
      "         -4.2199e-03,  2.7166e-01, -1.0084e-01,  4.9907e-02, -3.1376e-01,\n",
      "         -3.9518e-01, -3.1080e-01, -3.0001e+00,  1.2632e-01,  3.2778e-01,\n",
      "          3.3205e-01, -5.6730e-01, -2.4310e-01,  2.8371e-02,  9.0693e-02,\n",
      "         -3.8632e-03,  1.0489e-01, -1.5272e-01,  2.6231e-01, -1.9241e-01,\n",
      "          5.2291e-02,  1.3433e-01, -2.7409e-01,  1.1514e-01,  5.3667e-01,\n",
      "          6.7738e-02, -2.0301e-01, -9.1212e-02,  1.6269e-01, -5.4793e-02,\n",
      "          1.4933e-01,  3.4268e-01,  3.6130e-01,  1.4681e-01,  2.1065e-01,\n",
      "         -1.7569e-01,  9.8811e-02,  5.9253e-01,  2.1129e-01,  8.1396e-02,\n",
      "         -2.1203e-01,  4.2046e-01,  5.4378e-01,  8.5584e-02,  2.8939e-01,\n",
      "         -2.1456e-01,  2.8404e-01, -4.7716e-02,  1.0883e-01,  1.8189e-01,\n",
      "          1.4097e-01,  1.9986e-01,  2.1735e-01, -3.2741e-01,  3.0956e-01,\n",
      "         -2.2345e-01,  1.9322e-01, -6.3550e-02,  3.4287e-01,  4.7084e-01,\n",
      "          2.6493e-01,  3.5830e-01, -2.2280e-01,  6.7565e-02,  3.7182e-01,\n",
      "          3.1692e-01,  1.1152e-01,  9.4369e-02,  3.3405e-01,  5.8790e-02,\n",
      "          3.8968e+00,  1.2930e-01, -1.3862e-01,  4.4317e-01,  5.3072e-01,\n",
      "         -5.4009e-01,  2.2700e-01,  3.2114e-02,  1.6266e-01, -1.1896e-01,\n",
      "         -1.1061e-01,  5.7687e-01, -1.2738e-01, -3.7921e-01,  3.8913e-01,\n",
      "          5.7778e-01,  2.2736e-02, -2.8188e-01,  1.2535e-01, -9.9440e-02,\n",
      "          2.4070e-02,  2.9923e-01,  1.0191e-01, -2.0913e-01, -1.1708e+00,\n",
      "          6.8339e-02, -5.8427e-03, -1.7183e-01,  5.7181e-01, -4.2005e-01,\n",
      "          2.0155e-01, -1.7556e-01, -4.4743e-01,  1.3666e-01,  1.4420e-01,\n",
      "          1.2441e-01,  2.8769e-01,  8.2447e-02,  2.6434e-01, -2.0140e-01,\n",
      "          3.8945e-01,  5.4955e-01, -7.3172e-02,  3.5536e-01,  1.5048e-01,\n",
      "          5.4319e-01, -1.9168e-01,  2.5925e-01, -4.2051e-01,  1.3728e-01,\n",
      "          1.2247e-01,  9.2960e-02,  1.6183e-01, -3.4641e-01, -8.6867e-02,\n",
      "         -2.2053e-01,  1.5163e-01,  3.2503e-01, -2.8682e-01, -4.1540e-01,\n",
      "         -1.9595e-01,  2.6308e-01, -5.2192e-01, -1.4942e-01, -3.6966e-01,\n",
      "         -4.0372e-02, -1.8927e-01, -2.3511e-01, -3.3964e+00,  2.0801e-01,\n",
      "          3.1985e-01,  8.7385e-02,  3.5429e-01,  2.7192e-01, -4.3646e-01,\n",
      "          5.8133e-01,  2.5618e-01, -6.2525e-01,  1.8372e-01,  1.4301e-01,\n",
      "         -4.0935e-01,  8.7155e-03, -1.0888e-01, -8.9949e-02, -7.1465e-03,\n",
      "          1.1447e-01, -4.7003e-01, -2.0026e-01,  4.3615e-01,  2.7870e-01,\n",
      "         -3.0585e-01,  5.3110e-01,  3.5327e-01,  9.1880e-02,  1.9905e-01,\n",
      "         -4.6091e-02,  3.9392e-01, -2.4141e-01,  6.4136e-02, -1.3020e-01,\n",
      "         -2.2379e-02,  1.9488e-01, -4.5897e-01, -2.9832e+00, -1.9758e-01,\n",
      "          3.6225e-01, -3.0027e-01,  4.2470e-02, -9.9865e-02,  4.9151e-01,\n",
      "         -8.2213e-02, -2.7802e-01,  2.4902e-01,  1.4896e-01,  1.9441e-01,\n",
      "         -3.0885e-01,  3.6205e-01,  1.8972e-01, -4.0807e-01,  1.2333e-01,\n",
      "          1.9747e-01,  3.1107e-01, -3.7629e-02, -4.0223e-02,  2.6708e-01,\n",
      "          2.5994e-01,  1.0353e-01,  2.0394e-01,  4.0420e-01, -1.3945e-01,\n",
      "         -6.5234e-01, -1.8361e-01,  9.4191e-02,  3.8273e-02,  5.0394e-03,\n",
      "          1.0956e-01, -8.5588e-03, -3.9402e-01, -2.3551e-01,  4.3326e-01,\n",
      "          7.5308e-02,  5.8806e-01,  4.0925e-01,  3.3299e-01,  6.1728e-01,\n",
      "          6.4333e-01,  4.7316e-01,  2.4239e-01,  1.8687e-01, -2.6822e-01,\n",
      "         -1.4630e-01, -1.5951e-01, -6.9853e-02, -1.0464e-01, -8.7069e-02,\n",
      "          1.1544e+00, -4.6651e-01,  2.0578e-01,  6.3182e-03,  3.0122e-01,\n",
      "         -1.6218e-01,  4.3400e-02,  1.8366e-01,  4.8873e-01,  1.8048e-01,\n",
      "          3.2769e-01, -1.1089e-01, -1.4479e-02, -3.0659e-01,  9.8683e-02,\n",
      "         -5.8955e-01, -1.3531e-01,  1.1169e-01,  1.1192e-01,  3.0710e-02,\n",
      "         -1.0051e-01, -1.0129e+00, -5.1380e-01,  1.5620e-01, -2.1943e-01,\n",
      "         -1.6464e-01,  4.1205e-01, -6.0150e-01, -6.3793e-02, -2.3089e-01,\n",
      "         -1.2347e-01,  4.9830e-01, -4.5874e-01,  1.7929e-01,  3.0271e-01,\n",
      "         -2.2211e-01, -2.9328e-01,  3.0187e-02, -2.3609e-01,  4.4003e-01,\n",
      "         -1.6776e-01,  2.6752e-01, -8.0772e-02,  4.4848e-02,  1.4262e-01,\n",
      "         -1.1201e+00,  2.0115e-01, -1.9324e-01, -4.1942e-01, -2.3945e-01,\n",
      "         -5.4646e-01,  5.2763e-01,  3.1161e-01,  9.8153e-02, -4.6990e-01,\n",
      "          2.0662e-01,  7.3796e-02,  3.2976e-01, -2.5533e-02, -6.1418e-02,\n",
      "         -1.1820e-01,  3.5121e-01,  6.5647e-01, -7.8417e-02,  3.1330e-02,\n",
      "          6.2189e-01,  9.9965e-02,  5.5493e-01,  5.5856e-02,  4.2940e-01,\n",
      "          8.8760e-03,  3.9286e-01, -3.7078e-01, -1.8845e-02, -2.7744e-01,\n",
      "         -2.8746e-01, -5.8960e-01, -2.9801e-01,  3.6650e-01, -1.0078e-02,\n",
      "         -3.4235e-01, -6.1177e-01,  2.5193e-01,  3.0012e-02, -2.5984e-01,\n",
      "         -2.4887e-02,  1.2880e-01,  1.5536e-01,  2.2279e-01, -4.1395e-01,\n",
      "         -6.7787e-01,  3.8906e-01,  3.7183e-01,  1.5659e-01, -2.1651e-01,\n",
      "         -1.1555e-01, -2.3011e-01,  4.2607e-01,  4.2267e-03, -6.8437e-01,\n",
      "          2.5247e-01, -2.5482e-01,  1.4516e-01,  2.9767e-01,  3.5714e-01,\n",
      "         -2.3759e-01, -3.5727e-01, -7.2234e-02,  1.7669e-01,  1.1550e-01,\n",
      "         -1.2362e+00,  4.6455e-01,  1.1521e-01, -5.9064e-02,  7.7980e-02,\n",
      "          2.1327e-01, -3.0222e-01,  3.5875e-01, -4.2564e-02,  2.2830e-01,\n",
      "          1.0280e-01, -1.8893e-01,  9.4880e-03,  3.5400e-01,  1.7977e-02,\n",
      "          1.2695e-01,  3.1118e-01, -3.1968e-01, -1.1719e-01, -1.2364e-01,\n",
      "          1.4103e-02,  5.1525e-01,  3.2525e-01, -3.8290e-01,  2.6516e-01,\n",
      "         -1.0569e-01, -2.0053e-02,  2.6106e-01, -3.3109e-01,  7.3121e-02,\n",
      "          1.9196e-01, -4.4661e-01, -5.8313e-01, -2.5294e-01,  1.2317e-01,\n",
      "         -3.4207e-01, -1.6865e-02,  2.8748e-02,  6.1219e-01, -7.8503e-02,\n",
      "          2.0958e-01,  4.8585e-01,  1.9740e-01, -5.3343e-01,  2.9997e-01,\n",
      "          9.8951e-02, -3.2456e-01,  2.2212e-01,  4.2704e-01, -5.0893e-01,\n",
      "         -1.0397e-01, -3.2984e-01, -1.2737e-01, -2.8163e-01, -6.2442e-02,\n",
      "          1.5734e-02,  3.0276e-01,  2.5619e-02, -6.4845e-01, -1.8668e-01,\n",
      "          1.2141e-01, -2.2538e-01, -3.8164e-01,  5.5788e-03, -3.3537e-01,\n",
      "         -3.3297e-01,  8.7104e-02, -5.3213e-01, -1.0107e-01, -1.1122e-01,\n",
      "          5.2734e-01, -1.1840e-01, -2.7755e-01,  2.6609e-01, -7.3065e-01,\n",
      "          7.3718e-02,  4.1280e-01,  4.3444e-01, -3.1336e-02, -2.7842e-01,\n",
      "         -1.6138e-01, -4.2413e-01, -2.7433e-01,  4.0714e-01, -1.3116e-01,\n",
      "          3.0444e-01,  3.0991e-01, -1.1794e-01, -1.2903e-01, -1.2898e-01,\n",
      "         -5.0156e-01, -1.3403e-01,  7.1847e-02,  3.7062e-02, -4.0531e-02,\n",
      "         -2.1910e-01, -2.0150e-01, -8.6460e-02, -2.4708e-01, -6.5384e-02,\n",
      "         -6.0496e-02,  4.8729e-01,  2.7230e-01,  6.3921e-02,  3.8466e-01,\n",
      "          2.6127e-01,  6.9987e-01,  4.9173e-01, -6.4084e-01, -6.6711e-02,\n",
      "         -4.8483e-02,  7.0697e-03, -3.3117e-01, -3.8852e-01, -2.0531e-01,\n",
      "         -3.6718e-01,  1.5247e-01, -2.5997e-02,  2.4623e+00,  7.1377e-01,\n",
      "          1.4666e-01, -6.3315e-05,  3.1490e-01,  2.2849e-03, -1.8639e-01,\n",
      "         -1.7007e-01, -3.5641e-01,  5.9649e-01, -1.3331e-01,  9.2159e-02,\n",
      "         -1.4330e-01,  1.7035e-01,  6.3084e-01,  3.3509e-01, -5.5039e-01,\n",
      "          3.1226e-02, -8.2938e-01, -9.4459e-03, -9.6593e-02,  5.3243e-01,\n",
      "         -2.2657e-02, -1.9453e-01,  1.8818e-01,  4.5055e-01,  1.4531e-01,\n",
      "         -2.9297e-01, -7.9910e-04, -1.2645e-02, -6.4760e-01, -5.5228e-02,\n",
      "         -5.6305e-02,  9.0545e-02, -2.8597e-01,  6.6947e-01,  1.4716e-02,\n",
      "         -5.3500e-01, -1.6217e-01,  5.1129e-02, -1.2656e-01, -2.6357e-01,\n",
      "          4.7716e-01,  4.2253e-01, -4.6902e-02,  7.5831e-01, -2.8166e-01,\n",
      "         -4.4692e-01,  1.0075e-01,  1.2054e-01, -2.7539e-02, -1.7159e-01,\n",
      "         -1.6307e-01, -3.5083e-02, -3.7670e-02, -5.1394e-01,  3.4248e-01,\n",
      "         -6.1465e-02, -5.2898e-01,  3.9778e-01, -1.6455e-01,  3.3113e-01,\n",
      "          2.4732e-01, -3.0669e-01, -1.2076e-01,  1.3570e-02,  7.5608e-02,\n",
      "          2.7857e-01,  9.3509e-02, -4.8165e-01,  7.2877e-02,  4.8737e-01,\n",
      "          2.7282e-01, -1.4944e-01,  3.5660e-01,  5.6066e-02,  6.6483e-02,\n",
      "         -1.9413e-01, -1.4475e-01, -3.0439e+00, -2.8967e-02, -2.9041e-01,\n",
      "          2.1338e-01,  2.3521e-02,  1.8680e-01,  3.5595e-02,  1.2264e-01,\n",
      "          1.5141e-01, -1.7418e-01,  1.2608e-01, -1.3451e-01,  2.4740e-01,\n",
      "          2.8306e-01,  2.3591e-01,  9.3601e-02,  6.2966e-02, -5.2979e-01,\n",
      "         -3.9528e-01, -5.5549e-01,  3.8530e-01,  2.0745e-01, -1.8516e-01,\n",
      "         -1.3586e-02, -4.0364e-01,  2.7230e-01,  2.4252e-02, -2.1806e-01,\n",
      "         -2.1422e-01,  2.5187e-01, -3.2612e-01,  4.4917e-01, -2.9112e-01,\n",
      "          1.7419e-01, -6.1157e-03, -2.4774e-01, -2.6010e-01,  7.8163e-02,\n",
      "          4.0497e-01,  1.1542e-01, -1.0347e-01,  7.1886e-01, -3.0156e-02,\n",
      "          1.6391e-01, -2.2933e-01, -3.5036e-01,  6.7795e-01, -7.8010e-02,\n",
      "          2.9176e-01,  2.2444e-02,  1.4660e-01,  4.3306e-02,  2.2163e-01,\n",
      "         -4.6727e-02,  9.6519e-02,  1.0081e-01, -2.0041e-01, -2.6059e-01,\n",
      "          1.8332e-02, -7.7767e-02,  2.2236e-01,  3.0471e-01, -7.0687e-02,\n",
      "          2.5580e-01,  5.2728e-01, -2.2845e-01,  2.0128e-02, -2.7498e-01,\n",
      "          3.3402e-02,  1.3001e-01, -2.3313e-01, -1.7742e-01,  3.4212e-01,\n",
      "          9.8078e-02, -2.8953e-01, -3.9148e-02,  7.9822e-01,  1.9090e-01,\n",
      "         -2.5171e-01,  3.0020e-01, -8.3674e-02, -1.1917e-01, -1.5251e-01,\n",
      "          1.5569e-01, -6.9711e-02, -7.9891e+00, -1.9783e-01, -3.5132e-01,\n",
      "         -1.8060e-01,  1.2080e-01, -7.3767e-01,  8.2839e-02, -3.2550e-01,\n",
      "          2.6307e-01,  2.8182e-02,  2.9196e-01, -1.2419e-01, -3.4207e-01,\n",
      "         -1.0600e-03,  6.2860e-02,  4.4103e-01]], grad_fn=<SliceBackward0>)\n"
     ]
    }
   ],
   "source": [
    "tokenizer = AutoTokenizer.from_pretrained(\"bert-base-uncased\")\n",
    "model = AutoModel.from_pretrained(\"bert-base-uncased\")\n",
    "\n",
    "sentence = \"hello hi\"\n",
    "inputs = tokenizer(sentence, return_tensors=\"pt\")\n",
    "outputs = model(**inputs)\n",
    "embedding = outputs.last_hidden_state[:, 0, :]\n",
    "print(embedding)"
   ]
  },
  {
   "cell_type": "code",
   "execution_count": 6,
   "metadata": {},
   "outputs": [],
   "source": [
    "df = pd.read_csv('move_data.csv')\n",
    "moves_descriptions = df['effect']"
   ]
  },
  {
   "cell_type": "code",
   "execution_count": 7,
   "metadata": {},
   "outputs": [],
   "source": [
    "move_text = moves_descriptions.values"
   ]
  },
  {
   "cell_type": "code",
   "execution_count": 8,
   "metadata": {},
   "outputs": [],
   "source": [
    "sentences =  list(move_text[:500])\n",
    "inputs = tokenizer(sentences, return_tensors=\"pt\", padding=True, truncation=True)\n",
    "outputs = model(**inputs)\n",
    "embeddings = outputs.last_hidden_state[:, 0, :]"
   ]
  },
  {
   "cell_type": "code",
   "execution_count": 41,
   "metadata": {},
   "outputs": [
    {
     "data": {
      "text/plain": [
       "torch.Size([100, 768])"
      ]
     },
     "execution_count": 41,
     "metadata": {},
     "output_type": "execute_result"
    }
   ],
   "source": [
    "embeddings.shape"
   ]
  },
  {
   "cell_type": "code",
   "execution_count": 47,
   "metadata": {},
   "outputs": [],
   "source": [
    "from sklearn.preprocessing import StandardScaler\n",
    "from sklearn.manifold import TSNE\n",
    "import matplotlib.pyplot as plt"
   ]
  },
  {
   "cell_type": "code",
   "execution_count": 45,
   "metadata": {},
   "outputs": [],
   "source": [
    "scaler = StandardScaler()\n",
    "emb_scaled = scaler.fit_transform(embeddings.detach().numpy())\n",
    "tsne = TSNE(n_components=2)\n",
    "tsne_result = tsne.fit_transform(emb_scaled)"
   ]
  },
  {
   "cell_type": "code",
   "execution_count": 49,
   "metadata": {},
   "outputs": [
    {
     "data": {
      "image/png": "[encoded data removed]",
      "text/plain": [
       "<Figure size 640x480 with 1 Axes>"
      ]
     },
     "metadata": {},
     "output_type": "display_data"
    }
   ],
   "source": [
    "plt.scatter(tsne_result[:, 0], tsne_result[:, 1])\n",
    "plt.title('t-SNE of Pokémon descriptions')\n",
    "plt.show()"
   ]
  }
 ],
 "metadata": {
  "kernelspec": {
   "display_name": "pkmnai2",
   "language": "python",
   "name": "python3"
  },
  "language_info": {
   "codemirror_mode": {
    "name": "ipython",
    "version": 3
   },
   "file_extension": ".py",
   "mimetype": "text/x-python",
   "name": "python",
   "nbconvert_exporter": "python",
   "pygments_lexer": "ipython3",
   "version": "3.12.7"
  }
 },
 "nbformat": 4,
 "nbformat_minor": 2
}
